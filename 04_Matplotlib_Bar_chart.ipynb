{
  "nbformat": 4,
  "nbformat_minor": 0,
  "metadata": {
    "colab": {
      "name": "04_Matplotlib_Bar_chart.ipynb",
      "provenance": [],
      "collapsed_sections": [],
      "authorship_tag": "ABX9TyM2ASj0wgsJ6B20M1s/Po78",
      "include_colab_link": true
    },
    "kernelspec": {
      "name": "python3",
      "display_name": "Python 3"
    },
    "language_info": {
      "name": "python"
    }
  },
  "cells": [
    {
      "cell_type": "markdown",
      "metadata": {
        "id": "view-in-github",
        "colab_type": "text"
      },
      "source": [
        "<a href=\"https://colab.research.google.com/github/hareeshkhs/Matplotlib-Tutorial/blob/main/04_Matplotlib_Bar_chart.ipynb\" target=\"_parent\"><img src=\"https://colab.research.google.com/assets/colab-badge.svg\" alt=\"Open In Colab\"/></a>"
      ]
    },
    {
      "cell_type": "markdown",
      "metadata": {
        "id": "aACNRCqYtt01"
      },
      "source": [
        "# Matplotlib Barchart"
      ]
    },
    {
      "cell_type": "code",
      "metadata": {
        "id": "XQdQIimjtbje"
      },
      "source": [
        "import matplotlib.pyplot as plt\n",
        "import numpy as np\n",
        "%matplotlib inline"
      ],
      "execution_count": null,
      "outputs": []
    },
    {
      "cell_type": "markdown",
      "metadata": {
        "id": "-Pai73PQvi_m"
      },
      "source": [
        "**Simple bar chart showing revenues of major India tech companies**"
      ]
    },
    {
      "cell_type": "code",
      "metadata": {
        "id": "B0nV0FV1vX0G"
      },
      "source": [
        "company=['INFY','TCS','WIPRO','HCL']\n",
        "revenue=[100,164,61,75]\n",
        "profit=[19,32,9,11]"
      ],
      "execution_count": null,
      "outputs": []
    },
    {
      "cell_type": "code",
      "metadata": {
        "colab": {
          "base_uri": "https://localhost:8080/"
        },
        "id": "vTs1GjLz1l3G",
        "outputId": "3fa60e97-1814-4a6b-9aea-1c57279af71f"
      },
      "source": [
        "xpos = np.arange(len(company))\n",
        "xpos"
      ],
      "execution_count": null,
      "outputs": [
        {
          "output_type": "execute_result",
          "data": {
            "text/plain": [
              "array([0, 1, 2, 3])"
            ]
          },
          "metadata": {
            "tags": []
          },
          "execution_count": 4
        }
      ]
    },
    {
      "cell_type": "code",
      "metadata": {
        "colab": {
          "base_uri": "https://localhost:8080/",
          "height": 298
        },
        "id": "B31lFkRV1q2l",
        "outputId": "144fd627-e85e-49b2-eb14-b85ac7fd8eb9"
      },
      "source": [
        "plt.bar(xpos,revenue, label=\"Revenue\")\n",
        "\n",
        "plt.xticks(xpos,company)\n",
        "plt.ylabel(\"Revenue(INR bn)\")\n",
        "plt.title('India Tech Stocks')\n",
        "plt.legend()"
      ],
      "execution_count": null,
      "outputs": [
        {
          "output_type": "execute_result",
          "data": {
            "text/plain": [
              "<matplotlib.legend.Legend at 0x7f598b95c150>"
            ]
          },
          "metadata": {
            "tags": []
          },
          "execution_count": 5
        },
        {
          "output_type": "display_data",
          "data": {
            "image/png": "[encoded data removed]",
            "text/plain": [
              "<Figure size 432x288 with 1 Axes>"
            ]
          },
          "metadata": {
            "tags": [],
            "needs_background": "light"
          }
        }
      ]
    },
    {
      "cell_type": "markdown",
      "metadata": {
        "id": "F2SX0ZPmDcgf"
      },
      "source": [
        "**Multiple Bars showing revenue and profit of major India tech companies**"
      ]
    },
    {
      "cell_type": "code",
      "metadata": {
        "colab": {
          "base_uri": "https://localhost:8080/",
          "height": 298
        },
        "id": "Z-daOeu11t3V",
        "outputId": "ec114817-02b9-4b2a-cadb-85389b60a83a"
      },
      "source": [
        "plt.bar(xpos-0.2, revenue, width=0.4, label=\"Revenue\")\n",
        "plt.bar(xpos+0.2, profit, width=0.4,label=\"Profit\")\n",
        "\n",
        "plt.xticks(xpos,company)\n",
        "plt.ylabel(\"Revenue(INR bn)\")\n",
        "plt.title('India Tech Stocks')\n",
        "plt.legend()"
      ],
      "execution_count": null,
      "outputs": [
        {
          "output_type": "execute_result",
          "data": {
            "text/plain": [
              "<matplotlib.legend.Legend at 0x7f5980c9a890>"
            ]
          },
          "metadata": {
            "tags": []
          },
          "execution_count": 18
        },
        {
          "output_type": "display_data",
          "data": {
            "image/png": "[encoded data removed]",
            "text/plain": [
              "<Figure size 432x288 with 1 Axes>"
            ]
          },
          "metadata": {
            "tags": [],
            "needs_background": "light"
          }
        }
      ]
    },
    {
      "cell_type": "markdown",
      "metadata": {
        "id": "2jaDf7AcDMnJ"
      },
      "source": [
        "**Horizontal bar chart using barh function**"
      ]
    },
    {
      "cell_type": "code",
      "metadata": {
        "colab": {
          "base_uri": "https://localhost:8080/",
          "height": 298
        },
        "id": "eo9p2y3q18ZY",
        "outputId": "1c1e62ce-21da-4dee-d326-87baa27e9af2"
      },
      "source": [
        "plt.barh(xpos-0.2,revenue, height = 0.4, label=\"Revenue\")\n",
        "plt.barh(xpos+0.2,profit, height = 0.4, label=\"Profit\")\n",
        "\n",
        "plt.yticks(xpos,company)\n",
        "plt.ylabel(\"Revenue(INR bn)\")\n",
        "plt.title('India Tech Stocks')\n",
        "plt.legend()"
      ],
      "execution_count": null,
      "outputs": [
        {
          "output_type": "execute_result",
          "data": {
            "text/plain": [
              "<matplotlib.legend.Legend at 0x7f598106a250>"
            ]
          },
          "metadata": {
            "tags": []
          },
          "execution_count": 11
        },
        {
          "output_type": "display_data",
          "data": {
            "image/png": "[encoded data removed]",
            "text/plain": [
              "<Figure size 432x288 with 1 Axes>"
            ]
          },
          "metadata": {
            "tags": [],
            "needs_background": "light"
          }
        }
      ]
    }
  ]
}