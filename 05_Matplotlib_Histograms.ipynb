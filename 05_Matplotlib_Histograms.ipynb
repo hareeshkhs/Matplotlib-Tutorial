{
  "nbformat": 4,
  "nbformat_minor": 0,
  "metadata": {
    "colab": {
      "name": "05_Matplotlib_Histograms.ipynb",
      "provenance": [],
      "collapsed_sections": [],
      "authorship_tag": "ABX9TyPXlm012rH7AlEiuioZEoIA",
      "include_colab_link": true
    },
    "kernelspec": {
      "name": "python3",
      "display_name": "Python 3"
    },
    "language_info": {
      "name": "python"
    }
  },
  "cells": [
    {
      "cell_type": "markdown",
      "metadata": {
        "id": "view-in-github",
        "colab_type": "text"
      },
      "source": [
        "<a href=\"https://colab.research.google.com/github/hareeshkhs/Matplotlib-Tutorial/blob/main/05_Matplotlib_Histograms.ipynb\" target=\"_parent\"><img src=\"https://colab.research.google.com/assets/colab-badge.svg\" alt=\"Open In Colab\"/></a>"
      ]
    },
    {
      "cell_type": "markdown",
      "metadata": {
        "id": "_auZmSmKIVou"
      },
      "source": [
        "# Matplotlib Tutorial: Histogram"
      ]
    },
    {
      "cell_type": "code",
      "metadata": {
        "id": "hQ3dTfR_GAOW"
      },
      "source": [
        "%matplotlib inline\n",
        "import matplotlib.pyplot as plt"
      ],
      "execution_count": null,
      "outputs": []
    },
    {
      "cell_type": "code",
      "metadata": {
        "colab": {
          "base_uri": "https://localhost:8080/",
          "height": 333
        },
        "id": "cr9A3-cIIhAk",
        "outputId": "f021a6a0-6bde-4a54-c01c-ed01a59fed17"
      },
      "source": [
        "blood_sugar = [113, 85, 90, 150, 149, 88, 93, 115, 135, 80, 77, 82, 129]\n",
        "plt.hist(blood_sugar, rwidth=0.8) # by default number of bins is set to 10"
      ],
      "execution_count": null,
      "outputs": [
        {
          "output_type": "execute_result",
          "data": {
            "text/plain": [
              "(array([3., 3., 1., 0., 1., 1., 0., 2., 0., 2.]),\n",
              " array([ 77. ,  84.3,  91.6,  98.9, 106.2, 113.5, 120.8, 128.1, 135.4,\n",
              "        142.7, 150. ]),\n",
              " <a list of 10 Patch objects>)"
            ]
          },
          "metadata": {
            "tags": []
          },
          "execution_count": 2
        },
        {
          "output_type": "display_data",
          "data": {
            "image/png": "[encoded data removed]",
            "text/plain": [
              "<Figure size 432x288 with 1 Axes>"
            ]
          },
          "metadata": {
            "tags": [],
            "needs_background": "light"
          }
        }
      ]
    },
    {
      "cell_type": "markdown",
      "metadata": {
        "id": "dbsjXbYfI7eR"
      },
      "source": [
        "**bins parameter**"
      ]
    },
    {
      "cell_type": "code",
      "metadata": {
        "colab": {
          "base_uri": "https://localhost:8080/",
          "height": 316
        },
        "id": "rnWMFmEgIz94",
        "outputId": "6921d0ad-8e57-4298-bc73-9d5ebb4d6baf"
      },
      "source": [
        "plt.hist(blood_sugar,rwidth=0.5,bins=3)"
      ],
      "execution_count": null,
      "outputs": [
        {
          "output_type": "execute_result",
          "data": {
            "text/plain": [
              "(array([7., 2., 4.]),\n",
              " array([ 77.        , 101.33333333, 125.66666667, 150.        ]),\n",
              " <a list of 3 Patch objects>)"
            ]
          },
          "metadata": {
            "tags": []
          },
          "execution_count": 3
        },
        {
          "output_type": "display_data",
          "data": {
            "image/png": "[encoded data removed]",
            "text/plain": [
              "<Figure size 432x288 with 1 Axes>"
            ]
          },
          "metadata": {
            "tags": [],
            "needs_background": "light"
          }
        }
      ]
    },
    {
      "cell_type": "markdown",
      "metadata": {
        "id": "5VNNmQGcJXdZ"
      },
      "source": [
        "Histogram showing normal, pre-diabetic and diabetic patients distribution\n",
        "\n",
        "*   80-100: Normal\n",
        "*   100-125: Pre-diabetic\n",
        "*   100-150: Diabetic"
      ]
    },
    {
      "cell_type": "code",
      "metadata": {
        "colab": {
          "base_uri": "https://localhost:8080/",
          "height": 312
        },
        "id": "XWqTfnpxI69z",
        "outputId": "371cef4e-8596-4710-b6ed-fd279ffb3603"
      },
      "source": [
        "plt.xlabel(\"Sugar Level\")\n",
        "plt.ylabel(\"Number Of Patients\")\n",
        "plt.title(\"Blood Sugar Chart\")\n",
        "\n",
        "plt.hist(blood_sugar, bins=[80,100,125,150], rwidth=0.7, color='g')"
      ],
      "execution_count": null,
      "outputs": [
        {
          "output_type": "execute_result",
          "data": {
            "text/plain": [
              "(array([6., 2., 4.]), array([ 80, 100, 125, 150]), <a list of 3 Patch objects>)"
            ]
          },
          "metadata": {
            "tags": []
          },
          "execution_count": 7
        },
        {
          "output_type": "display_data",
          "data": {
            "image/png": "[encoded data removed]",
            "text/plain": [
              "<Figure size 432x288 with 1 Axes>"
            ]
          },
          "metadata": {
            "tags": [],
            "needs_background": "light"
          }
        }
      ]
    },
    {
      "cell_type": "markdown",
      "metadata": {
        "id": "7NL53xU1KW7U"
      },
      "source": [
        "**Mutiple data samples in a histogram**"
      ]
    },
    {
      "cell_type": "code",
      "metadata": {
        "colab": {
          "base_uri": "https://localhost:8080/",
          "height": 312
        },
        "id": "MjxPaxT8KC00",
        "outputId": "ad81773b-c3ed-4819-c0f7-50511382625f"
      },
      "source": [
        "plt.xlabel(\"Sugar Level\")\n",
        "plt.ylabel(\"Number Of Patients\")\n",
        "plt.title(\"Blood Sugar Chart\")\n",
        "\n",
        "blood_sugar_men = [113, 85, 90, 150, 149, 88, 93, 115, 135, 80, 77, 82, 129]\n",
        "blood_sugar_women = [67, 98, 89, 120, 133, 150, 84, 69, 89, 79, 120, 112, 100]\n",
        "\n",
        "plt.hist([blood_sugar_men,blood_sugar_women], bins=[80,100,125,150], rwidth=0.95, color=['green','orange'],label=['men','women'])\n",
        "plt.legend()"
      ],
      "execution_count": null,
      "outputs": [
        {
          "output_type": "execute_result",
          "data": {
            "text/plain": [
              "<matplotlib.legend.Legend at 0x7f0ccf4e9bd0>"
            ]
          },
          "metadata": {
            "tags": []
          },
          "execution_count": 8
        },
        {
          "output_type": "display_data",
          "data": {
            "image/png": "[encoded data removed]",
            "text/plain": [
              "<Figure size 432x288 with 1 Axes>"
            ]
          },
          "metadata": {
            "tags": [],
            "needs_background": "light"
          }
        }
      ]
    },
    {
      "cell_type": "markdown",
      "metadata": {
        "id": "d1Z8Nr6VKnQp"
      },
      "source": [
        "**histtype=step**"
      ]
    },
    {
      "cell_type": "code",
      "metadata": {
        "colab": {
          "base_uri": "https://localhost:8080/",
          "height": 312
        },
        "id": "T-5WXE4mKdOo",
        "outputId": "d5656660-d2ed-4597-b4fb-97f2e4161154"
      },
      "source": [
        "plt.xlabel(\"Sugar Level\")\n",
        "plt.ylabel(\"Number Of Patients\")\n",
        "plt.title(\"Blood Sugar Chart\")\n",
        "\n",
        "plt.hist(blood_sugar,bins=[80,100,125,150],rwidth=0.95,histtype='step')"
      ],
      "execution_count": null,
      "outputs": [
        {
          "output_type": "execute_result",
          "data": {
            "text/plain": [
              "(array([6., 2., 4.]), array([ 80, 100, 125, 150]), <a list of 1 Patch objects>)"
            ]
          },
          "metadata": {
            "tags": []
          },
          "execution_count": 9
        },
        {
          "output_type": "display_data",
          "data": {
            "image/png": "[encoded data removed]",
            "text/plain": [
              "<Figure size 432x288 with 1 Axes>"
            ]
          },
          "metadata": {
            "tags": [],
            "needs_background": "light"
          }
        }
      ]
    },
    {
      "cell_type": "markdown",
      "metadata": {
        "id": "R-ecGHzGKolx"
      },
      "source": [
        "**horizontal orientation**"
      ]
    },
    {
      "cell_type": "code",
      "metadata": {
        "colab": {
          "base_uri": "https://localhost:8080/",
          "height": 312
        },
        "id": "H4Bv5SjAKymT",
        "outputId": "1a56c77d-be4f-437e-ce5a-34204a8ca222"
      },
      "source": [
        "plt.xlabel(\"Number Of Patients\")\n",
        "plt.ylabel(\"Sugar Level\")\n",
        "plt.title(\"Blood Sugar Chart\")\n",
        "\n",
        "plt.hist(blood_sugar, bins=[80,100,125,150], rwidth=0.95, orientation='horizontal')"
      ],
      "execution_count": null,
      "outputs": [
        {
          "output_type": "execute_result",
          "data": {
            "text/plain": [
              "(array([6., 2., 4.]), array([ 80, 100, 125, 150]), <a list of 3 Patch objects>)"
            ]
          },
          "metadata": {
            "tags": []
          },
          "execution_count": 10
        },
        {
          "output_type": "display_data",
          "data": {
            "image/png": "[encoded data removed]",
            "text/plain": [
              "<Figure size 432x288 with 1 Axes>"
            ]
          },
          "metadata": {
            "tags": [],
            "needs_background": "light"
          }
        }
      ]
    }
  ]
}